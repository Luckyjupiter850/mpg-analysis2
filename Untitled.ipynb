import seaborn as sns
sns.load_dataset("mpg")


mpg = sns.load_dataset("mpg")
mpg


import seaborn as sns
import matplotlib.pyplot as plt

sns.scatterplot(data=mpg, x="horsepower", y="mpg", hue="origin")
plt.title("Horsepower vs Fuel Economy (mpg)")
plt.xlabel("Horsepower")
plt.ylabel("Miles per Gallon")
plt.show()
# Observation:
# There is a clear negative correlation: cars with higher horsepower tend to have lower fuel economy.



summary_by_origin = mpg.groupby("origin")["mpg"].describe()
print(summary_by_origin)
# Observation:
# Japanese cars generally have the highest average MPG, followed by European, then US cars.



sns.lineplot(data=mpg, x="model_year", y="mpg", hue="origin", estimator='mean')
plt.title("Average Fuel Economy Over Time by Origin")
plt.xlabel("Model Year")
plt.ylabel("Average Miles per Gallon")
plt.show()
# Observation:
# Fuel economy improved steadily from the 1970s to 1980s across all regions, likely due to fuel efficiency regulations.



sns.boxplot(data=mpg, x="cylinders", y="mpg", hue="cylinders", palette="Set2", legend=False)
plt.title("Fuel Economy by Number of Cylinders")
plt.xlabel("Cylinders")
plt.ylabel("Miles per Gallon")
plt.show()

# Observation:
# Cars with fewer cylinders (like 4) tend to have higher fuel economy, while those with 6 or 8 have lower MPG.



top_efficient_cars = mpg.sort_values(by="mpg", ascending=False)[["name", "mpg", "origin", "horsepower"]].head()
print(top_efficient_cars)
# Observation:
# The most fuel-efficient cars are small, lightweight imports from Japan, with lower horsepower.




